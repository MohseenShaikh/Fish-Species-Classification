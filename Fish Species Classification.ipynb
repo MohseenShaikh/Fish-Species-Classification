{
 "cells": [
  {
   "cell_type": "markdown",
   "metadata": {},
   "source": [
    "# Import Libraries"
   ]
  },
  {
   "cell_type": "code",
   "execution_count": 1,
   "metadata": {},
   "outputs": [
    {
     "name": "stderr",
     "output_type": "stream",
     "text": [
      "Using TensorFlow backend.\n",
      "/Users/mohseen/opt/anaconda3/envs/tf_cpu/lib/python3.6/importlib/_bootstrap.py:219: RuntimeWarning: numpy.ufunc size changed, may indicate binary incompatibility. Expected 192 from C header, got 216 from PyObject\n",
      "  return f(*args, **kwds)\n"
     ]
    }
   ],
   "source": [
    "import pandas as pd\n",
    "from sklearn.model_selection import train_test_split\n",
    "from sklearn.preprocessing import LabelEncoder, StandardScaler\n",
    "from sklearn.linear_model import LogisticRegression\n",
    "from keras import Sequential\n",
    "from keras.layers import Dense\n",
    "import seaborn as sns\n",
    "import matplotlib.pyplot as plt"
   ]
  },
  {
   "cell_type": "markdown",
   "metadata": {},
   "source": [
    "# Load the dataset"
   ]
  },
  {
   "cell_type": "code",
   "execution_count": 40,
   "metadata": {},
   "outputs": [],
   "source": [
    "data = pd.read_csv('Fish_Dataset.csv')"
   ]
  },
  {
   "cell_type": "code",
   "execution_count": 41,
   "metadata": {},
   "outputs": [
    {
     "data": {
      "text/html": [
       "<div>\n",
       "<style scoped>\n",
       "    .dataframe tbody tr th:only-of-type {\n",
       "        vertical-align: middle;\n",
       "    }\n",
       "\n",
       "    .dataframe tbody tr th {\n",
       "        vertical-align: top;\n",
       "    }\n",
       "\n",
       "    .dataframe thead th {\n",
       "        text-align: right;\n",
       "    }\n",
       "</style>\n",
       "<table border=\"1\" class=\"dataframe\">\n",
       "  <thead>\n",
       "    <tr style=\"text-align: right;\">\n",
       "      <th></th>\n",
       "      <th>Species</th>\n",
       "      <th>Weight</th>\n",
       "      <th>Length1</th>\n",
       "      <th>Length2</th>\n",
       "      <th>Length3</th>\n",
       "      <th>Height</th>\n",
       "      <th>Width</th>\n",
       "    </tr>\n",
       "  </thead>\n",
       "  <tbody>\n",
       "    <tr>\n",
       "      <th>0</th>\n",
       "      <td>Bream</td>\n",
       "      <td>242.0</td>\n",
       "      <td>23.2</td>\n",
       "      <td>25.4</td>\n",
       "      <td>30.0</td>\n",
       "      <td>11.5200</td>\n",
       "      <td>4.0200</td>\n",
       "    </tr>\n",
       "    <tr>\n",
       "      <th>1</th>\n",
       "      <td>Bream</td>\n",
       "      <td>290.0</td>\n",
       "      <td>24.0</td>\n",
       "      <td>26.3</td>\n",
       "      <td>31.2</td>\n",
       "      <td>12.4800</td>\n",
       "      <td>4.3056</td>\n",
       "    </tr>\n",
       "    <tr>\n",
       "      <th>2</th>\n",
       "      <td>Bream</td>\n",
       "      <td>340.0</td>\n",
       "      <td>23.9</td>\n",
       "      <td>26.5</td>\n",
       "      <td>31.1</td>\n",
       "      <td>12.3778</td>\n",
       "      <td>4.6961</td>\n",
       "    </tr>\n",
       "    <tr>\n",
       "      <th>3</th>\n",
       "      <td>Bream</td>\n",
       "      <td>363.0</td>\n",
       "      <td>26.3</td>\n",
       "      <td>29.0</td>\n",
       "      <td>33.5</td>\n",
       "      <td>12.7300</td>\n",
       "      <td>4.4555</td>\n",
       "    </tr>\n",
       "    <tr>\n",
       "      <th>4</th>\n",
       "      <td>Bream</td>\n",
       "      <td>430.0</td>\n",
       "      <td>26.5</td>\n",
       "      <td>29.0</td>\n",
       "      <td>34.0</td>\n",
       "      <td>12.4440</td>\n",
       "      <td>5.1340</td>\n",
       "    </tr>\n",
       "    <tr>\n",
       "      <th>...</th>\n",
       "      <td>...</td>\n",
       "      <td>...</td>\n",
       "      <td>...</td>\n",
       "      <td>...</td>\n",
       "      <td>...</td>\n",
       "      <td>...</td>\n",
       "      <td>...</td>\n",
       "    </tr>\n",
       "    <tr>\n",
       "      <th>154</th>\n",
       "      <td>Smelt</td>\n",
       "      <td>12.2</td>\n",
       "      <td>11.5</td>\n",
       "      <td>12.2</td>\n",
       "      <td>13.4</td>\n",
       "      <td>2.0904</td>\n",
       "      <td>1.3936</td>\n",
       "    </tr>\n",
       "    <tr>\n",
       "      <th>155</th>\n",
       "      <td>Smelt</td>\n",
       "      <td>13.4</td>\n",
       "      <td>11.7</td>\n",
       "      <td>12.4</td>\n",
       "      <td>13.5</td>\n",
       "      <td>2.4300</td>\n",
       "      <td>1.2690</td>\n",
       "    </tr>\n",
       "    <tr>\n",
       "      <th>156</th>\n",
       "      <td>Smelt</td>\n",
       "      <td>12.2</td>\n",
       "      <td>12.1</td>\n",
       "      <td>13.0</td>\n",
       "      <td>13.8</td>\n",
       "      <td>2.2770</td>\n",
       "      <td>1.2558</td>\n",
       "    </tr>\n",
       "    <tr>\n",
       "      <th>157</th>\n",
       "      <td>Smelt</td>\n",
       "      <td>19.7</td>\n",
       "      <td>13.2</td>\n",
       "      <td>14.3</td>\n",
       "      <td>15.2</td>\n",
       "      <td>2.8728</td>\n",
       "      <td>2.0672</td>\n",
       "    </tr>\n",
       "    <tr>\n",
       "      <th>158</th>\n",
       "      <td>Smelt</td>\n",
       "      <td>19.9</td>\n",
       "      <td>13.8</td>\n",
       "      <td>15.0</td>\n",
       "      <td>16.2</td>\n",
       "      <td>2.9322</td>\n",
       "      <td>1.8792</td>\n",
       "    </tr>\n",
       "  </tbody>\n",
       "</table>\n",
       "<p>159 rows × 7 columns</p>\n",
       "</div>"
      ],
      "text/plain": [
       "    Species  Weight  Length1  Length2  Length3   Height   Width\n",
       "0     Bream   242.0     23.2     25.4     30.0  11.5200  4.0200\n",
       "1     Bream   290.0     24.0     26.3     31.2  12.4800  4.3056\n",
       "2     Bream   340.0     23.9     26.5     31.1  12.3778  4.6961\n",
       "3     Bream   363.0     26.3     29.0     33.5  12.7300  4.4555\n",
       "4     Bream   430.0     26.5     29.0     34.0  12.4440  5.1340\n",
       "..      ...     ...      ...      ...      ...      ...     ...\n",
       "154   Smelt    12.2     11.5     12.2     13.4   2.0904  1.3936\n",
       "155   Smelt    13.4     11.7     12.4     13.5   2.4300  1.2690\n",
       "156   Smelt    12.2     12.1     13.0     13.8   2.2770  1.2558\n",
       "157   Smelt    19.7     13.2     14.3     15.2   2.8728  2.0672\n",
       "158   Smelt    19.9     13.8     15.0     16.2   2.9322  1.8792\n",
       "\n",
       "[159 rows x 7 columns]"
      ]
     },
     "execution_count": 41,
     "metadata": {},
     "output_type": "execute_result"
    }
   ],
   "source": [
    "data"
   ]
  },
  {
   "cell_type": "markdown",
   "metadata": {},
   "source": [
    "# Data Preprocessing"
   ]
  },
  {
   "cell_type": "code",
   "execution_count": 42,
   "metadata": {},
   "outputs": [
    {
     "data": {
      "text/plain": [
       "Species    0\n",
       "Weight     0\n",
       "Length1    0\n",
       "Length2    0\n",
       "Length3    0\n",
       "Height     0\n",
       "Width      0\n",
       "dtype: int64"
      ]
     },
     "execution_count": 42,
     "metadata": {},
     "output_type": "execute_result"
    }
   ],
   "source": [
    "data.isnull().sum()"
   ]
  },
  {
   "cell_type": "code",
   "execution_count": 43,
   "metadata": {},
   "outputs": [
    {
     "data": {
      "image/png": "[encoded data removed]",
      "text/plain": [
       "<Figure size 864x720 with 2 Axes>"
      ]
     },
     "metadata": {
      "needs_background": "light"
     },
     "output_type": "display_data"
    }
   ],
   "source": [
    "plt.figure(figsize = (12,10))\n",
    "sns.heatmap(data.corr(), annot = True)\n",
    "plt.show()"
   ]
  },
  {
   "cell_type": "code",
   "execution_count": 44,
   "metadata": {},
   "outputs": [
    {
     "data": {
      "text/plain": [
       "7"
      ]
     },
     "execution_count": 44,
     "metadata": {},
     "output_type": "execute_result"
    }
   ],
   "source": [
    "# Check for the number of species\n",
    "len(data['Species'].unique())"
   ]
  },
  {
   "cell_type": "code",
   "execution_count": 45,
   "metadata": {},
   "outputs": [
    {
     "data": {
      "text/plain": [
       "{0: 'Bream',\n",
       " 1: 'Parkki',\n",
       " 2: 'Perch',\n",
       " 3: 'Pike',\n",
       " 4: 'Roach',\n",
       " 5: 'Smelt',\n",
       " 6: 'Whitefish'}"
      ]
     },
     "execution_count": 45,
     "metadata": {},
     "output_type": "execute_result"
    }
   ],
   "source": [
    "# Encode the classes name with numberical values\n",
    "encoder = LabelEncoder()\n",
    "df_species = encoder.fit_transform(data['Species'])\n",
    "\n",
    "# Dictionary of the species for numerical values\n",
    "fish_species = {index: type for index, type in enumerate(encoder.classes_)}\n",
    "fish_species"
   ]
  },
  {
   "cell_type": "code",
   "execution_count": 46,
   "metadata": {},
   "outputs": [
    {
     "data": {
      "text/html": [
       "<div>\n",
       "<style scoped>\n",
       "    .dataframe tbody tr th:only-of-type {\n",
       "        vertical-align: middle;\n",
       "    }\n",
       "\n",
       "    .dataframe tbody tr th {\n",
       "        vertical-align: top;\n",
       "    }\n",
       "\n",
       "    .dataframe thead th {\n",
       "        text-align: right;\n",
       "    }\n",
       "</style>\n",
       "<table border=\"1\" class=\"dataframe\">\n",
       "  <thead>\n",
       "    <tr style=\"text-align: right;\">\n",
       "      <th></th>\n",
       "      <th>Species</th>\n",
       "      <th>Weight</th>\n",
       "      <th>Length1</th>\n",
       "      <th>Length2</th>\n",
       "      <th>Length3</th>\n",
       "      <th>Height</th>\n",
       "      <th>Width</th>\n",
       "    </tr>\n",
       "  </thead>\n",
       "  <tbody>\n",
       "    <tr>\n",
       "      <th>0</th>\n",
       "      <td>Bream</td>\n",
       "      <td>242.0</td>\n",
       "      <td>23.2</td>\n",
       "      <td>25.4</td>\n",
       "      <td>30.0</td>\n",
       "      <td>11.5200</td>\n",
       "      <td>4.0200</td>\n",
       "    </tr>\n",
       "    <tr>\n",
       "      <th>1</th>\n",
       "      <td>Bream</td>\n",
       "      <td>290.0</td>\n",
       "      <td>24.0</td>\n",
       "      <td>26.3</td>\n",
       "      <td>31.2</td>\n",
       "      <td>12.4800</td>\n",
       "      <td>4.3056</td>\n",
       "    </tr>\n",
       "    <tr>\n",
       "      <th>2</th>\n",
       "      <td>Bream</td>\n",
       "      <td>340.0</td>\n",
       "      <td>23.9</td>\n",
       "      <td>26.5</td>\n",
       "      <td>31.1</td>\n",
       "      <td>12.3778</td>\n",
       "      <td>4.6961</td>\n",
       "    </tr>\n",
       "    <tr>\n",
       "      <th>3</th>\n",
       "      <td>Bream</td>\n",
       "      <td>363.0</td>\n",
       "      <td>26.3</td>\n",
       "      <td>29.0</td>\n",
       "      <td>33.5</td>\n",
       "      <td>12.7300</td>\n",
       "      <td>4.4555</td>\n",
       "    </tr>\n",
       "    <tr>\n",
       "      <th>4</th>\n",
       "      <td>Bream</td>\n",
       "      <td>430.0</td>\n",
       "      <td>26.5</td>\n",
       "      <td>29.0</td>\n",
       "      <td>34.0</td>\n",
       "      <td>12.4440</td>\n",
       "      <td>5.1340</td>\n",
       "    </tr>\n",
       "  </tbody>\n",
       "</table>\n",
       "</div>"
      ],
      "text/plain": [
       "  Species  Weight  Length1  Length2  Length3   Height   Width\n",
       "0   Bream   242.0     23.2     25.4     30.0  11.5200  4.0200\n",
       "1   Bream   290.0     24.0     26.3     31.2  12.4800  4.3056\n",
       "2   Bream   340.0     23.9     26.5     31.1  12.3778  4.6961\n",
       "3   Bream   363.0     26.3     29.0     33.5  12.7300  4.4555\n",
       "4   Bream   430.0     26.5     29.0     34.0  12.4440  5.1340"
      ]
     },
     "execution_count": 46,
     "metadata": {},
     "output_type": "execute_result"
    }
   ],
   "source": [
    "data.head()"
   ]
  },
  {
   "cell_type": "code",
   "execution_count": 47,
   "metadata": {},
   "outputs": [],
   "source": [
    "# Feature and target selection\n",
    "X = data.drop('Species', axis=1)\n",
    "y = data['Species']"
   ]
  },
  {
   "cell_type": "code",
   "execution_count": 48,
   "metadata": {},
   "outputs": [
    {
     "data": {
      "text/html": [
       "<div>\n",
       "<style scoped>\n",
       "    .dataframe tbody tr th:only-of-type {\n",
       "        vertical-align: middle;\n",
       "    }\n",
       "\n",
       "    .dataframe tbody tr th {\n",
       "        vertical-align: top;\n",
       "    }\n",
       "\n",
       "    .dataframe thead th {\n",
       "        text-align: right;\n",
       "    }\n",
       "</style>\n",
       "<table border=\"1\" class=\"dataframe\">\n",
       "  <thead>\n",
       "    <tr style=\"text-align: right;\">\n",
       "      <th></th>\n",
       "      <th>Weight</th>\n",
       "      <th>Length1</th>\n",
       "      <th>Length2</th>\n",
       "      <th>Length3</th>\n",
       "      <th>Height</th>\n",
       "      <th>Width</th>\n",
       "    </tr>\n",
       "  </thead>\n",
       "  <tbody>\n",
       "    <tr>\n",
       "      <th>0</th>\n",
       "      <td>242.0</td>\n",
       "      <td>23.2</td>\n",
       "      <td>25.4</td>\n",
       "      <td>30.0</td>\n",
       "      <td>11.5200</td>\n",
       "      <td>4.0200</td>\n",
       "    </tr>\n",
       "    <tr>\n",
       "      <th>1</th>\n",
       "      <td>290.0</td>\n",
       "      <td>24.0</td>\n",
       "      <td>26.3</td>\n",
       "      <td>31.2</td>\n",
       "      <td>12.4800</td>\n",
       "      <td>4.3056</td>\n",
       "    </tr>\n",
       "    <tr>\n",
       "      <th>2</th>\n",
       "      <td>340.0</td>\n",
       "      <td>23.9</td>\n",
       "      <td>26.5</td>\n",
       "      <td>31.1</td>\n",
       "      <td>12.3778</td>\n",
       "      <td>4.6961</td>\n",
       "    </tr>\n",
       "    <tr>\n",
       "      <th>3</th>\n",
       "      <td>363.0</td>\n",
       "      <td>26.3</td>\n",
       "      <td>29.0</td>\n",
       "      <td>33.5</td>\n",
       "      <td>12.7300</td>\n",
       "      <td>4.4555</td>\n",
       "    </tr>\n",
       "    <tr>\n",
       "      <th>4</th>\n",
       "      <td>430.0</td>\n",
       "      <td>26.5</td>\n",
       "      <td>29.0</td>\n",
       "      <td>34.0</td>\n",
       "      <td>12.4440</td>\n",
       "      <td>5.1340</td>\n",
       "    </tr>\n",
       "    <tr>\n",
       "      <th>...</th>\n",
       "      <td>...</td>\n",
       "      <td>...</td>\n",
       "      <td>...</td>\n",
       "      <td>...</td>\n",
       "      <td>...</td>\n",
       "      <td>...</td>\n",
       "    </tr>\n",
       "    <tr>\n",
       "      <th>154</th>\n",
       "      <td>12.2</td>\n",
       "      <td>11.5</td>\n",
       "      <td>12.2</td>\n",
       "      <td>13.4</td>\n",
       "      <td>2.0904</td>\n",
       "      <td>1.3936</td>\n",
       "    </tr>\n",
       "    <tr>\n",
       "      <th>155</th>\n",
       "      <td>13.4</td>\n",
       "      <td>11.7</td>\n",
       "      <td>12.4</td>\n",
       "      <td>13.5</td>\n",
       "      <td>2.4300</td>\n",
       "      <td>1.2690</td>\n",
       "    </tr>\n",
       "    <tr>\n",
       "      <th>156</th>\n",
       "      <td>12.2</td>\n",
       "      <td>12.1</td>\n",
       "      <td>13.0</td>\n",
       "      <td>13.8</td>\n",
       "      <td>2.2770</td>\n",
       "      <td>1.2558</td>\n",
       "    </tr>\n",
       "    <tr>\n",
       "      <th>157</th>\n",
       "      <td>19.7</td>\n",
       "      <td>13.2</td>\n",
       "      <td>14.3</td>\n",
       "      <td>15.2</td>\n",
       "      <td>2.8728</td>\n",
       "      <td>2.0672</td>\n",
       "    </tr>\n",
       "    <tr>\n",
       "      <th>158</th>\n",
       "      <td>19.9</td>\n",
       "      <td>13.8</td>\n",
       "      <td>15.0</td>\n",
       "      <td>16.2</td>\n",
       "      <td>2.9322</td>\n",
       "      <td>1.8792</td>\n",
       "    </tr>\n",
       "  </tbody>\n",
       "</table>\n",
       "<p>159 rows × 6 columns</p>\n",
       "</div>"
      ],
      "text/plain": [
       "     Weight  Length1  Length2  Length3   Height   Width\n",
       "0     242.0     23.2     25.4     30.0  11.5200  4.0200\n",
       "1     290.0     24.0     26.3     31.2  12.4800  4.3056\n",
       "2     340.0     23.9     26.5     31.1  12.3778  4.6961\n",
       "3     363.0     26.3     29.0     33.5  12.7300  4.4555\n",
       "4     430.0     26.5     29.0     34.0  12.4440  5.1340\n",
       "..      ...      ...      ...      ...      ...     ...\n",
       "154    12.2     11.5     12.2     13.4   2.0904  1.3936\n",
       "155    13.4     11.7     12.4     13.5   2.4300  1.2690\n",
       "156    12.2     12.1     13.0     13.8   2.2770  1.2558\n",
       "157    19.7     13.2     14.3     15.2   2.8728  2.0672\n",
       "158    19.9     13.8     15.0     16.2   2.9322  1.8792\n",
       "\n",
       "[159 rows x 6 columns]"
      ]
     },
     "execution_count": 48,
     "metadata": {},
     "output_type": "execute_result"
    }
   ],
   "source": [
    "X"
   ]
  },
  {
   "cell_type": "code",
   "execution_count": 49,
   "metadata": {},
   "outputs": [],
   "source": [
    "# Scaling the values as all the values are continious\n",
    "scaler = StandardScaler()\n",
    "\n",
    "X = pd.DataFrame(scaler.fit_transform(X), columns= X.columns)"
   ]
  },
  {
   "cell_type": "code",
   "execution_count": 50,
   "metadata": {},
   "outputs": [
    {
     "data": {
      "text/html": [
       "<div>\n",
       "<style scoped>\n",
       "    .dataframe tbody tr th:only-of-type {\n",
       "        vertical-align: middle;\n",
       "    }\n",
       "\n",
       "    .dataframe tbody tr th {\n",
       "        vertical-align: top;\n",
       "    }\n",
       "\n",
       "    .dataframe thead th {\n",
       "        text-align: right;\n",
       "    }\n",
       "</style>\n",
       "<table border=\"1\" class=\"dataframe\">\n",
       "  <thead>\n",
       "    <tr style=\"text-align: right;\">\n",
       "      <th></th>\n",
       "      <th>Weight</th>\n",
       "      <th>Length1</th>\n",
       "      <th>Length2</th>\n",
       "      <th>Length3</th>\n",
       "      <th>Height</th>\n",
       "      <th>Width</th>\n",
       "    </tr>\n",
       "  </thead>\n",
       "  <tbody>\n",
       "    <tr>\n",
       "      <th>0</th>\n",
       "      <td>-0.438072</td>\n",
       "      <td>-0.305789</td>\n",
       "      <td>-0.282303</td>\n",
       "      <td>-0.106020</td>\n",
       "      <td>0.596579</td>\n",
       "      <td>-0.236529</td>\n",
       "    </tr>\n",
       "    <tr>\n",
       "      <th>1</th>\n",
       "      <td>-0.303562</td>\n",
       "      <td>-0.225507</td>\n",
       "      <td>-0.198054</td>\n",
       "      <td>-0.002337</td>\n",
       "      <td>0.821261</td>\n",
       "      <td>-0.066579</td>\n",
       "    </tr>\n",
       "    <tr>\n",
       "      <th>2</th>\n",
       "      <td>-0.163448</td>\n",
       "      <td>-0.235542</td>\n",
       "      <td>-0.179332</td>\n",
       "      <td>-0.010977</td>\n",
       "      <td>0.797341</td>\n",
       "      <td>0.165793</td>\n",
       "    </tr>\n",
       "    <tr>\n",
       "      <th>3</th>\n",
       "      <td>-0.098995</td>\n",
       "      <td>0.005302</td>\n",
       "      <td>0.054694</td>\n",
       "      <td>0.196390</td>\n",
       "      <td>0.879771</td>\n",
       "      <td>0.022621</td>\n",
       "    </tr>\n",
       "    <tr>\n",
       "      <th>4</th>\n",
       "      <td>0.088759</td>\n",
       "      <td>0.025372</td>\n",
       "      <td>0.054694</td>\n",
       "      <td>0.239592</td>\n",
       "      <td>0.812835</td>\n",
       "      <td>0.426371</td>\n",
       "    </tr>\n",
       "    <tr>\n",
       "      <th>...</th>\n",
       "      <td>...</td>\n",
       "      <td>...</td>\n",
       "      <td>...</td>\n",
       "      <td>...</td>\n",
       "      <td>...</td>\n",
       "      <td>...</td>\n",
       "    </tr>\n",
       "    <tr>\n",
       "      <th>154</th>\n",
       "      <td>-1.082039</td>\n",
       "      <td>-1.479903</td>\n",
       "      <td>-1.517960</td>\n",
       "      <td>-1.540309</td>\n",
       "      <td>-1.610359</td>\n",
       "      <td>-1.799403</td>\n",
       "    </tr>\n",
       "    <tr>\n",
       "      <th>155</th>\n",
       "      <td>-1.078676</td>\n",
       "      <td>-1.459833</td>\n",
       "      <td>-1.499238</td>\n",
       "      <td>-1.531669</td>\n",
       "      <td>-1.530878</td>\n",
       "      <td>-1.873547</td>\n",
       "    </tr>\n",
       "    <tr>\n",
       "      <th>156</th>\n",
       "      <td>-1.082039</td>\n",
       "      <td>-1.419692</td>\n",
       "      <td>-1.443072</td>\n",
       "      <td>-1.505748</td>\n",
       "      <td>-1.566687</td>\n",
       "      <td>-1.881402</td>\n",
       "    </tr>\n",
       "    <tr>\n",
       "      <th>157</th>\n",
       "      <td>-1.061022</td>\n",
       "      <td>-1.309305</td>\n",
       "      <td>-1.321378</td>\n",
       "      <td>-1.384784</td>\n",
       "      <td>-1.427243</td>\n",
       "      <td>-1.398568</td>\n",
       "    </tr>\n",
       "    <tr>\n",
       "      <th>158</th>\n",
       "      <td>-1.060461</td>\n",
       "      <td>-1.249094</td>\n",
       "      <td>-1.255851</td>\n",
       "      <td>-1.298381</td>\n",
       "      <td>-1.413341</td>\n",
       "      <td>-1.510440</td>\n",
       "    </tr>\n",
       "  </tbody>\n",
       "</table>\n",
       "<p>159 rows × 6 columns</p>\n",
       "</div>"
      ],
      "text/plain": [
       "       Weight   Length1   Length2   Length3    Height     Width\n",
       "0   -0.438072 -0.305789 -0.282303 -0.106020  0.596579 -0.236529\n",
       "1   -0.303562 -0.225507 -0.198054 -0.002337  0.821261 -0.066579\n",
       "2   -0.163448 -0.235542 -0.179332 -0.010977  0.797341  0.165793\n",
       "3   -0.098995  0.005302  0.054694  0.196390  0.879771  0.022621\n",
       "4    0.088759  0.025372  0.054694  0.239592  0.812835  0.426371\n",
       "..        ...       ...       ...       ...       ...       ...\n",
       "154 -1.082039 -1.479903 -1.517960 -1.540309 -1.610359 -1.799403\n",
       "155 -1.078676 -1.459833 -1.499238 -1.531669 -1.530878 -1.873547\n",
       "156 -1.082039 -1.419692 -1.443072 -1.505748 -1.566687 -1.881402\n",
       "157 -1.061022 -1.309305 -1.321378 -1.384784 -1.427243 -1.398568\n",
       "158 -1.060461 -1.249094 -1.255851 -1.298381 -1.413341 -1.510440\n",
       "\n",
       "[159 rows x 6 columns]"
      ]
     },
     "execution_count": 50,
     "metadata": {},
     "output_type": "execute_result"
    }
   ],
   "source": [
    "X  # Scaled values for calculations"
   ]
  },
  {
   "cell_type": "markdown",
   "metadata": {},
   "source": [
    "# Model"
   ]
  },
  {
   "cell_type": "code",
   "execution_count": 51,
   "metadata": {},
   "outputs": [],
   "source": [
    "# Splitting the dataset for training and testing\n",
    "x_train, x_test, y_train, y_test = train_test_split(X, y, test_size=0.2)\n"
   ]
  },
  {
   "cell_type": "markdown",
   "metadata": {},
   "source": [
    "## Neural Network Model"
   ]
  },
  {
   "cell_type": "code",
   "execution_count": 14,
   "metadata": {},
   "outputs": [
    {
     "name": "stdout",
     "output_type": "stream",
     "text": [
      "Number of features: 6\n",
      "Model: \"sequential_1\"\n",
      "_________________________________________________________________\n",
      "Layer (type)                 Output Shape              Param #   \n",
      "=================================================================\n",
      "dense_1 (Dense)              (None, 64)                448       \n",
      "_________________________________________________________________\n",
      "dense_2 (Dense)              (None, 16)                1040      \n",
      "_________________________________________________________________\n",
      "dense_3 (Dense)              (None, 16)                272       \n",
      "_________________________________________________________________\n",
      "dense_4 (Dense)              (None, 1)                 17        \n",
      "=================================================================\n",
      "Total params: 1,777\n",
      "Trainable params: 1,777\n",
      "Non-trainable params: 0\n",
      "_________________________________________________________________\n"
     ]
    }
   ],
   "source": [
    "# Determine the number of features\n",
    "n_features = x_train.shape[1]\n",
    "print('Number of features:', n_features)\n",
    "\n",
    "# Step 1 - Define Model\n",
    "model = Sequential()\n",
    "\n",
    "# Hidden Layer 1\n",
    "model.add(Dense(64, \n",
    "                activation ='relu',\n",
    "                kernel_initializer = 'he_normal',\n",
    "                input_shape=(n_features,)))\n",
    "\n",
    "# Hidden Layer 2\n",
    "model.add(Dense(16, \n",
    "                activation = 'relu',\n",
    "                kernel_initializer = 'he_normal'))\n",
    "\n",
    "# Hidden Layer 3\n",
    "model.add(Dense(16, \n",
    "                activation = 'relu',\n",
    "                kernel_initializer = 'he_normal'))\n",
    "\n",
    "# Output Layer\n",
    "model.add(Dense(1, activation = 'sigmoid'))\n",
    "\n",
    "\n",
    "# Step 2 - Compile the model\n",
    "model.compile(\n",
    "    optimizer = 'adam',\n",
    "    loss = 'binary_crossentropy',\n",
    "    metrics = ['accuracy']\n",
    ")\n",
    "model.summary()"
   ]
  },
  {
   "cell_type": "code",
   "execution_count": 15,
   "metadata": {},
   "outputs": [
    {
     "name": "stdout",
     "output_type": "stream",
     "text": [
      "Train on 101 samples, validate on 26 samples\n",
      "Epoch 1/150\n",
      " - 2s - loss: 0.8797 - accuracy: 0.0693 - val_loss: 0.4998 - val_accuracy: 0.0000e+00\n",
      "Epoch 2/150\n",
      " - 0s - loss: 0.1892 - accuracy: 0.0594 - val_loss: -6.5321e-01 - val_accuracy: 0.0769\n",
      "Epoch 3/150\n",
      " - 0s - loss: -4.1991e-01 - accuracy: 0.0891 - val_loss: -1.7683e+00 - val_accuracy: 0.0769\n",
      "Epoch 4/150\n",
      " - 0s - loss: -9.9509e-01 - accuracy: 0.1188 - val_loss: -2.6510e+00 - val_accuracy: 0.1154\n",
      "Epoch 5/150\n",
      " - 0s - loss: -1.4025e+00 - accuracy: 0.1089 - val_loss: -3.1084e+00 - val_accuracy: 0.1154\n",
      "Epoch 6/150\n",
      " - 0s - loss: -1.6707e+00 - accuracy: 0.1089 - val_loss: -3.5379e+00 - val_accuracy: 0.1154\n",
      "Epoch 7/150\n",
      " - 0s - loss: -1.9402e+00 - accuracy: 0.0990 - val_loss: -3.9759e+00 - val_accuracy: 0.1154\n",
      "Epoch 8/150\n",
      " - 0s - loss: -2.2197e+00 - accuracy: 0.0990 - val_loss: -4.4592e+00 - val_accuracy: 0.1154\n",
      "Epoch 9/150\n",
      " - 0s - loss: -2.5247e+00 - accuracy: 0.0990 - val_loss: -5.0170e+00 - val_accuracy: 0.1154\n",
      "Epoch 10/150\n",
      " - 0s - loss: -2.8425e+00 - accuracy: 0.0891 - val_loss: -5.6130e+00 - val_accuracy: 0.1154\n",
      "Epoch 11/150\n",
      " - 0s - loss: -3.2319e+00 - accuracy: 0.0891 - val_loss: -6.2220e+00 - val_accuracy: 0.1154\n",
      "Epoch 12/150\n",
      " - 0s - loss: -3.5939e+00 - accuracy: 0.0792 - val_loss: -7.0102e+00 - val_accuracy: 0.1154\n",
      "Epoch 13/150\n",
      " - 0s - loss: -4.0958e+00 - accuracy: 0.0891 - val_loss: -7.9424e+00 - val_accuracy: 0.1154\n",
      "Epoch 14/150\n",
      " - 0s - loss: -4.6185e+00 - accuracy: 0.0891 - val_loss: -9.0201e+00 - val_accuracy: 0.1154\n",
      "Epoch 15/150\n",
      " - 0s - loss: -5.2401e+00 - accuracy: 0.0990 - val_loss: -1.0223e+01 - val_accuracy: 0.1154\n",
      "Epoch 16/150\n",
      " - 0s - loss: -5.9662e+00 - accuracy: 0.1089 - val_loss: -1.1704e+01 - val_accuracy: 0.1154\n",
      "Epoch 17/150\n",
      " - 0s - loss: -6.8180e+00 - accuracy: 0.1089 - val_loss: -1.3345e+01 - val_accuracy: 0.1154\n",
      "Epoch 18/150\n",
      " - 0s - loss: -7.7006e+00 - accuracy: 0.1089 - val_loss: -1.5189e+01 - val_accuracy: 0.1154\n",
      "Epoch 19/150\n",
      " - 0s - loss: -8.7230e+00 - accuracy: 0.1089 - val_loss: -1.7184e+01 - val_accuracy: 0.1154\n",
      "Epoch 20/150\n",
      " - 0s - loss: -9.8392e+00 - accuracy: 0.0990 - val_loss: -1.9504e+01 - val_accuracy: 0.1154\n",
      "Epoch 21/150\n",
      " - 0s - loss: -1.1066e+01 - accuracy: 0.0990 - val_loss: -2.2194e+01 - val_accuracy: 0.1154\n",
      "Epoch 22/150\n",
      " - 0s - loss: -1.2549e+01 - accuracy: 0.0990 - val_loss: -2.5079e+01 - val_accuracy: 0.1154\n",
      "Epoch 23/150\n",
      " - 0s - loss: -1.4207e+01 - accuracy: 0.1089 - val_loss: -2.8105e+01 - val_accuracy: 0.1154\n",
      "Epoch 24/150\n",
      " - 0s - loss: -1.5920e+01 - accuracy: 0.1188 - val_loss: -3.1479e+01 - val_accuracy: 0.1154\n",
      "Epoch 25/150\n",
      " - 0s - loss: -1.7812e+01 - accuracy: 0.1386 - val_loss: -3.5235e+01 - val_accuracy: 0.1154\n",
      "Epoch 26/150\n",
      " - 0s - loss: -1.9940e+01 - accuracy: 0.1485 - val_loss: -3.9359e+01 - val_accuracy: 0.1154\n",
      "Epoch 27/150\n",
      " - 0s - loss: -2.2385e+01 - accuracy: 0.1485 - val_loss: -4.3931e+01 - val_accuracy: 0.1154\n",
      "Epoch 28/150\n",
      " - 0s - loss: -2.5078e+01 - accuracy: 0.1386 - val_loss: -4.9636e+01 - val_accuracy: 0.1154\n",
      "Epoch 29/150\n",
      " - 0s - loss: -2.8196e+01 - accuracy: 0.1386 - val_loss: -5.6491e+01 - val_accuracy: 0.1154\n",
      "Epoch 30/150\n",
      " - 0s - loss: -3.2051e+01 - accuracy: 0.1485 - val_loss: -6.4128e+01 - val_accuracy: 0.1154\n",
      "Epoch 31/150\n",
      " - 0s - loss: -3.6272e+01 - accuracy: 0.1485 - val_loss: -7.2205e+01 - val_accuracy: 0.1154\n",
      "Epoch 32/150\n",
      " - 0s - loss: -4.0716e+01 - accuracy: 0.1485 - val_loss: -8.1315e+01 - val_accuracy: 0.1154\n",
      "Epoch 33/150\n",
      " - 0s - loss: -4.5754e+01 - accuracy: 0.1485 - val_loss: -9.1790e+01 - val_accuracy: 0.1154\n",
      "Epoch 34/150\n",
      " - 0s - loss: -5.1037e+01 - accuracy: 0.1485 - val_loss: -1.0313e+02 - val_accuracy: 0.1154\n",
      "Epoch 35/150\n",
      " - 0s - loss: -5.7505e+01 - accuracy: 0.1485 - val_loss: -1.1548e+02 - val_accuracy: 0.1154\n",
      "Epoch 36/150\n",
      " - 0s - loss: -6.4147e+01 - accuracy: 0.1584 - val_loss: -1.2927e+02 - val_accuracy: 0.1154\n",
      "Epoch 37/150\n",
      " - 0s - loss: -7.1268e+01 - accuracy: 0.1584 - val_loss: -1.4360e+02 - val_accuracy: 0.1154\n",
      "Epoch 38/150\n",
      " - 0s - loss: -7.9184e+01 - accuracy: 0.1584 - val_loss: -1.5883e+02 - val_accuracy: 0.1154\n",
      "Epoch 39/150\n",
      " - 0s - loss: -8.7639e+01 - accuracy: 0.1584 - val_loss: -1.7659e+02 - val_accuracy: 0.1154\n",
      "Epoch 40/150\n",
      " - 0s - loss: -9.7315e+01 - accuracy: 0.1584 - val_loss: -1.9635e+02 - val_accuracy: 0.1154\n",
      "Epoch 41/150\n",
      " - 0s - loss: -1.0653e+02 - accuracy: 0.1584 - val_loss: -2.1718e+02 - val_accuracy: 0.1154\n",
      "Epoch 42/150\n",
      " - 0s - loss: -1.1692e+02 - accuracy: 0.1485 - val_loss: -2.3916e+02 - val_accuracy: 0.1154\n",
      "Epoch 43/150\n",
      " - 0s - loss: -1.2994e+02 - accuracy: 0.1386 - val_loss: -2.6186e+02 - val_accuracy: 0.1154\n",
      "Epoch 44/150\n",
      " - 0s - loss: -1.4220e+02 - accuracy: 0.1287 - val_loss: -2.8806e+02 - val_accuracy: 0.1154\n",
      "Epoch 45/150\n",
      " - 0s - loss: -1.5665e+02 - accuracy: 0.1287 - val_loss: -3.1585e+02 - val_accuracy: 0.1154\n",
      "Epoch 46/150\n",
      " - 0s - loss: -1.7123e+02 - accuracy: 0.1089 - val_loss: -3.4817e+02 - val_accuracy: 0.1154\n",
      "Epoch 47/150\n",
      " - 0s - loss: -1.8756e+02 - accuracy: 0.0990 - val_loss: -3.8327e+02 - val_accuracy: 0.1154\n",
      "Epoch 48/150\n",
      " - 0s - loss: -2.0721e+02 - accuracy: 0.0990 - val_loss: -4.1719e+02 - val_accuracy: 0.1154\n",
      "Epoch 49/150\n",
      " - 0s - loss: -2.2529e+02 - accuracy: 0.0990 - val_loss: -4.5351e+02 - val_accuracy: 0.1154\n",
      "Epoch 50/150\n",
      " - 0s - loss: -2.4359e+02 - accuracy: 0.0990 - val_loss: -4.9500e+02 - val_accuracy: 0.1154\n",
      "Epoch 51/150\n",
      " - 0s - loss: -2.6821e+02 - accuracy: 0.1188 - val_loss: -5.3854e+02 - val_accuracy: 0.1154\n",
      "Epoch 52/150\n",
      " - 0s - loss: -2.8998e+02 - accuracy: 0.0990 - val_loss: -5.8456e+02 - val_accuracy: 0.1154\n",
      "Epoch 53/150\n",
      " - 0s - loss: -3.1201e+02 - accuracy: 0.0990 - val_loss: -6.3263e+02 - val_accuracy: 0.1154\n",
      "Epoch 54/150\n",
      " - 0s - loss: -3.3948e+02 - accuracy: 0.0990 - val_loss: -6.8037e+02 - val_accuracy: 0.1154\n",
      "Epoch 55/150\n",
      " - 0s - loss: -3.6476e+02 - accuracy: 0.0990 - val_loss: -7.3292e+02 - val_accuracy: 0.1154\n",
      "Epoch 56/150\n",
      " - 0s - loss: -3.9188e+02 - accuracy: 0.0891 - val_loss: -7.9276e+02 - val_accuracy: 0.1154\n",
      "Epoch 57/150\n",
      " - 0s - loss: -4.2308e+02 - accuracy: 0.0891 - val_loss: -8.5669e+02 - val_accuracy: 0.1154\n",
      "Epoch 58/150\n",
      " - 0s - loss: -4.5762e+02 - accuracy: 0.0990 - val_loss: -9.2687e+02 - val_accuracy: 0.1154\n",
      "Epoch 59/150\n",
      " - 0s - loss: -4.9313e+02 - accuracy: 0.0990 - val_loss: -1.0012e+03 - val_accuracy: 0.1154\n",
      "Epoch 60/150\n",
      " - 0s - loss: -5.3301e+02 - accuracy: 0.0990 - val_loss: -1.0809e+03 - val_accuracy: 0.1154\n",
      "Epoch 61/150\n",
      " - 0s - loss: -5.7434e+02 - accuracy: 0.0990 - val_loss: -1.1627e+03 - val_accuracy: 0.1154\n",
      "Epoch 62/150\n",
      " - 0s - loss: -6.1626e+02 - accuracy: 0.0990 - val_loss: -1.2511e+03 - val_accuracy: 0.1154\n",
      "Epoch 63/150\n",
      " - 0s - loss: -6.6220e+02 - accuracy: 0.0990 - val_loss: -1.3471e+03 - val_accuracy: 0.1154\n",
      "Epoch 64/150\n",
      " - 0s - loss: -7.1210e+02 - accuracy: 0.0990 - val_loss: -1.4418e+03 - val_accuracy: 0.1154\n",
      "Epoch 65/150\n",
      " - 0s - loss: -7.6166e+02 - accuracy: 0.0990 - val_loss: -1.5396e+03 - val_accuracy: 0.1154\n",
      "Epoch 66/150\n",
      " - 0s - loss: -8.1116e+02 - accuracy: 0.0990 - val_loss: -1.6492e+03 - val_accuracy: 0.1154\n",
      "Epoch 67/150\n",
      " - 0s - loss: -8.6810e+02 - accuracy: 0.0990 - val_loss: -1.7594e+03 - val_accuracy: 0.1154\n",
      "Epoch 68/150\n",
      " - 0s - loss: -9.2222e+02 - accuracy: 0.0990 - val_loss: -1.8739e+03 - val_accuracy: 0.1154\n",
      "Epoch 69/150\n",
      " - 0s - loss: -9.8185e+02 - accuracy: 0.0990 - val_loss: -1.9939e+03 - val_accuracy: 0.1154\n",
      "Epoch 70/150\n",
      " - 0s - loss: -1.0433e+03 - accuracy: 0.0990 - val_loss: -2.1267e+03 - val_accuracy: 0.1154\n",
      "Epoch 71/150\n",
      " - 0s - loss: -1.1132e+03 - accuracy: 0.0990 - val_loss: -2.2647e+03 - val_accuracy: 0.1154\n",
      "Epoch 72/150\n",
      " - 0s - loss: -1.1860e+03 - accuracy: 0.0990 - val_loss: -2.4069e+03 - val_accuracy: 0.1154\n",
      "Epoch 73/150\n",
      " - 0s - loss: -1.2600e+03 - accuracy: 0.0990 - val_loss: -2.5586e+03 - val_accuracy: 0.1154\n",
      "Epoch 74/150\n",
      " - 0s - loss: -1.3474e+03 - accuracy: 0.0990 - val_loss: -2.7149e+03 - val_accuracy: 0.1154\n",
      "Epoch 75/150\n",
      " - 0s - loss: -1.4236e+03 - accuracy: 0.0891 - val_loss: -2.8954e+03 - val_accuracy: 0.1154\n",
      "Epoch 76/150\n",
      " - 0s - loss: -1.5197e+03 - accuracy: 0.0891 - val_loss: -3.0764e+03 - val_accuracy: 0.1154\n",
      "Epoch 77/150\n",
      " - 0s - loss: -1.6029e+03 - accuracy: 0.0891 - val_loss: -3.2649e+03 - val_accuracy: 0.1154\n",
      "Epoch 78/150\n",
      " - 0s - loss: -1.6983e+03 - accuracy: 0.0891 - val_loss: -3.4547e+03 - val_accuracy: 0.1154\n"
     ]
    },
    {
     "name": "stdout",
     "output_type": "stream",
     "text": [
      "Epoch 79/150\n",
      " - 0s - loss: -1.8051e+03 - accuracy: 0.0891 - val_loss: -3.6497e+03 - val_accuracy: 0.1154\n",
      "Epoch 80/150\n",
      " - 0s - loss: -1.9020e+03 - accuracy: 0.0891 - val_loss: -3.8540e+03 - val_accuracy: 0.1154\n",
      "Epoch 81/150\n",
      " - 0s - loss: -2.0113e+03 - accuracy: 0.0891 - val_loss: -4.0616e+03 - val_accuracy: 0.1154\n",
      "Epoch 82/150\n",
      " - 0s - loss: -2.1217e+03 - accuracy: 0.0891 - val_loss: -4.2848e+03 - val_accuracy: 0.1154\n",
      "Epoch 83/150\n",
      " - 0s - loss: -2.2401e+03 - accuracy: 0.0990 - val_loss: -4.5337e+03 - val_accuracy: 0.1154\n",
      "Epoch 84/150\n",
      " - 0s - loss: -2.3658e+03 - accuracy: 0.0990 - val_loss: -4.7905e+03 - val_accuracy: 0.1154\n",
      "Epoch 85/150\n",
      " - 0s - loss: -2.5019e+03 - accuracy: 0.0990 - val_loss: -5.0527e+03 - val_accuracy: 0.1154\n",
      "Epoch 86/150\n",
      " - 0s - loss: -2.6378e+03 - accuracy: 0.0990 - val_loss: -5.3251e+03 - val_accuracy: 0.1154\n",
      "Epoch 87/150\n",
      " - 0s - loss: -2.7820e+03 - accuracy: 0.0990 - val_loss: -5.6114e+03 - val_accuracy: 0.1154\n",
      "Epoch 88/150\n",
      " - 0s - loss: -2.9242e+03 - accuracy: 0.0990 - val_loss: -5.9323e+03 - val_accuracy: 0.1154\n",
      "Epoch 89/150\n",
      " - 0s - loss: -3.0896e+03 - accuracy: 0.0891 - val_loss: -6.2546e+03 - val_accuracy: 0.1154\n",
      "Epoch 90/150\n",
      " - 0s - loss: -3.2425e+03 - accuracy: 0.0891 - val_loss: -6.5838e+03 - val_accuracy: 0.1154\n",
      "Epoch 91/150\n",
      " - 0s - loss: -3.4224e+03 - accuracy: 0.0891 - val_loss: -6.9206e+03 - val_accuracy: 0.1154\n",
      "Epoch 92/150\n",
      " - 0s - loss: -3.5961e+03 - accuracy: 0.0891 - val_loss: -7.2859e+03 - val_accuracy: 0.1154\n",
      "Epoch 93/150\n",
      " - 0s - loss: -3.7775e+03 - accuracy: 0.0891 - val_loss: -7.6652e+03 - val_accuracy: 0.1154\n",
      "Epoch 94/150\n",
      " - 0s - loss: -3.9726e+03 - accuracy: 0.0990 - val_loss: -8.0694e+03 - val_accuracy: 0.1154\n",
      "Epoch 95/150\n",
      " - 0s - loss: -4.1853e+03 - accuracy: 0.0990 - val_loss: -8.4703e+03 - val_accuracy: 0.1154\n",
      "Epoch 96/150\n",
      " - 0s - loss: -4.4065e+03 - accuracy: 0.0891 - val_loss: -8.8898e+03 - val_accuracy: 0.1154\n",
      "Epoch 97/150\n",
      " - 0s - loss: -4.6203e+03 - accuracy: 0.0891 - val_loss: -9.3452e+03 - val_accuracy: 0.1154\n",
      "Epoch 98/150\n",
      " - 0s - loss: -4.8392e+03 - accuracy: 0.0792 - val_loss: -9.7967e+03 - val_accuracy: 0.1154\n",
      "Epoch 99/150\n",
      " - 0s - loss: -5.0887e+03 - accuracy: 0.0792 - val_loss: -1.0235e+04 - val_accuracy: 0.1154\n",
      "Epoch 100/150\n",
      " - 0s - loss: -5.2909e+03 - accuracy: 0.0891 - val_loss: -1.0729e+04 - val_accuracy: 0.1154\n",
      "Epoch 101/150\n",
      " - 0s - loss: -5.5442e+03 - accuracy: 0.0891 - val_loss: -1.1216e+04 - val_accuracy: 0.1154\n",
      "Epoch 102/150\n",
      " - 0s - loss: -5.7874e+03 - accuracy: 0.0891 - val_loss: -1.1705e+04 - val_accuracy: 0.1154\n",
      "Epoch 103/150\n",
      " - 0s - loss: -6.0413e+03 - accuracy: 0.0891 - val_loss: -1.2190e+04 - val_accuracy: 0.1154\n",
      "Epoch 104/150\n",
      " - 0s - loss: -6.2998e+03 - accuracy: 0.0891 - val_loss: -1.2691e+04 - val_accuracy: 0.1154\n",
      "Epoch 105/150\n",
      " - 0s - loss: -6.5603e+03 - accuracy: 0.0891 - val_loss: -1.3256e+04 - val_accuracy: 0.1154\n",
      "Epoch 106/150\n",
      " - 0s - loss: -6.8415e+03 - accuracy: 0.0891 - val_loss: -1.3864e+04 - val_accuracy: 0.1154\n",
      "Epoch 107/150\n",
      " - 0s - loss: -7.1579e+03 - accuracy: 0.0891 - val_loss: -1.4472e+04 - val_accuracy: 0.1154\n",
      "Epoch 108/150\n",
      " - 0s - loss: -7.4573e+03 - accuracy: 0.0891 - val_loss: -1.5120e+04 - val_accuracy: 0.1154\n",
      "Epoch 109/150\n",
      " - 0s - loss: -7.8037e+03 - accuracy: 0.0891 - val_loss: -1.5758e+04 - val_accuracy: 0.1154\n",
      "Epoch 110/150\n",
      " - 0s - loss: -8.1169e+03 - accuracy: 0.0891 - val_loss: -1.6445e+04 - val_accuracy: 0.1154\n",
      "Epoch 111/150\n",
      " - 0s - loss: -8.4682e+03 - accuracy: 0.0891 - val_loss: -1.7117e+04 - val_accuracy: 0.1154\n",
      "Epoch 112/150\n",
      " - 0s - loss: -8.8097e+03 - accuracy: 0.0891 - val_loss: -1.7777e+04 - val_accuracy: 0.1154\n",
      "Epoch 113/150\n",
      " - 0s - loss: -9.1531e+03 - accuracy: 0.0891 - val_loss: -1.8457e+04 - val_accuracy: 0.1154\n",
      "Epoch 114/150\n",
      " - 0s - loss: -9.5033e+03 - accuracy: 0.0990 - val_loss: -1.9190e+04 - val_accuracy: 0.1154\n",
      "Epoch 115/150\n",
      " - 0s - loss: -9.8872e+03 - accuracy: 0.0990 - val_loss: -1.9930e+04 - val_accuracy: 0.1154\n",
      "Epoch 116/150\n",
      " - 0s - loss: -1.0240e+04 - accuracy: 0.0990 - val_loss: -2.0764e+04 - val_accuracy: 0.1154\n",
      "Epoch 117/150\n",
      " - 0s - loss: -1.0678e+04 - accuracy: 0.0990 - val_loss: -2.1559e+04 - val_accuracy: 0.1154\n",
      "Epoch 118/150\n",
      " - 0s - loss: -1.1090e+04 - accuracy: 0.0990 - val_loss: -2.2380e+04 - val_accuracy: 0.1154\n",
      "Epoch 119/150\n",
      " - 0s - loss: -1.1496e+04 - accuracy: 0.0990 - val_loss: -2.3292e+04 - val_accuracy: 0.1154\n",
      "Epoch 120/150\n",
      " - 0s - loss: -1.1954e+04 - accuracy: 0.0891 - val_loss: -2.4153e+04 - val_accuracy: 0.1154\n",
      "Epoch 121/150\n",
      " - 0s - loss: -1.2380e+04 - accuracy: 0.0891 - val_loss: -2.4975e+04 - val_accuracy: 0.1154\n",
      "Epoch 122/150\n",
      " - 0s - loss: -1.2791e+04 - accuracy: 0.0891 - val_loss: -2.5781e+04 - val_accuracy: 0.1154\n",
      "Epoch 123/150\n",
      " - 0s - loss: -1.3213e+04 - accuracy: 0.0891 - val_loss: -2.6587e+04 - val_accuracy: 0.1154\n",
      "Epoch 124/150\n",
      " - 0s - loss: -1.3649e+04 - accuracy: 0.0891 - val_loss: -2.7392e+04 - val_accuracy: 0.1154\n",
      "Epoch 125/150\n",
      " - 0s - loss: -1.4059e+04 - accuracy: 0.0891 - val_loss: -2.8251e+04 - val_accuracy: 0.1154\n",
      "Epoch 126/150\n",
      " - 0s - loss: -1.4506e+04 - accuracy: 0.0891 - val_loss: -2.9208e+04 - val_accuracy: 0.1154\n",
      "Epoch 127/150\n",
      " - 0s - loss: -1.5007e+04 - accuracy: 0.0891 - val_loss: -3.0146e+04 - val_accuracy: 0.1154\n",
      "Epoch 128/150\n",
      " - 0s - loss: -1.5452e+04 - accuracy: 0.0891 - val_loss: -3.1102e+04 - val_accuracy: 0.1154\n",
      "Epoch 129/150\n",
      " - 0s - loss: -1.5970e+04 - accuracy: 0.0891 - val_loss: -3.2037e+04 - val_accuracy: 0.1154\n",
      "Epoch 130/150\n",
      " - 0s - loss: -1.6431e+04 - accuracy: 0.0891 - val_loss: -3.3027e+04 - val_accuracy: 0.1154\n",
      "Epoch 131/150\n",
      " - 0s - loss: -1.6973e+04 - accuracy: 0.0792 - val_loss: -3.4055e+04 - val_accuracy: 0.1154\n",
      "Epoch 132/150\n",
      " - 0s - loss: -1.7575e+04 - accuracy: 0.0792 - val_loss: -3.5177e+04 - val_accuracy: 0.1154\n",
      "Epoch 133/150\n",
      " - 0s - loss: -1.8076e+04 - accuracy: 0.0792 - val_loss: -3.6384e+04 - val_accuracy: 0.1154\n",
      "Epoch 134/150\n",
      " - 0s - loss: -1.8720e+04 - accuracy: 0.0792 - val_loss: -3.7512e+04 - val_accuracy: 0.1154\n",
      "Epoch 135/150\n",
      " - 0s - loss: -1.9296e+04 - accuracy: 0.0792 - val_loss: -3.8644e+04 - val_accuracy: 0.1154\n",
      "Epoch 136/150\n",
      " - 0s - loss: -1.9879e+04 - accuracy: 0.0792 - val_loss: -3.9777e+04 - val_accuracy: 0.1154\n",
      "Epoch 137/150\n",
      " - 0s - loss: -2.0452e+04 - accuracy: 0.0792 - val_loss: -4.0927e+04 - val_accuracy: 0.1154\n",
      "Epoch 138/150\n",
      " - 0s - loss: -2.1047e+04 - accuracy: 0.0792 - val_loss: -4.2062e+04 - val_accuracy: 0.1154\n",
      "Epoch 139/150\n",
      " - 0s - loss: -2.1659e+04 - accuracy: 0.0792 - val_loss: -4.3246e+04 - val_accuracy: 0.1154\n",
      "Epoch 140/150\n",
      " - 0s - loss: -2.2301e+04 - accuracy: 0.0792 - val_loss: -4.4541e+04 - val_accuracy: 0.1154\n",
      "Epoch 141/150\n",
      " - 0s - loss: -2.2956e+04 - accuracy: 0.0891 - val_loss: -4.5876e+04 - val_accuracy: 0.1154\n",
      "Epoch 142/150\n",
      " - 0s - loss: -2.3640e+04 - accuracy: 0.0891 - val_loss: -4.7215e+04 - val_accuracy: 0.1154\n",
      "Epoch 143/150\n",
      " - 0s - loss: -2.4344e+04 - accuracy: 0.0792 - val_loss: -4.8607e+04 - val_accuracy: 0.1154\n",
      "Epoch 144/150\n",
      " - 0s - loss: -2.5006e+04 - accuracy: 0.0792 - val_loss: -5.0066e+04 - val_accuracy: 0.1154\n",
      "Epoch 145/150\n",
      " - 0s - loss: -2.5791e+04 - accuracy: 0.0792 - val_loss: -5.1499e+04 - val_accuracy: 0.1154\n",
      "Epoch 146/150\n",
      " - 0s - loss: -2.6559e+04 - accuracy: 0.0792 - val_loss: -5.2989e+04 - val_accuracy: 0.1154\n",
      "Epoch 147/150\n",
      " - 0s - loss: -2.7280e+04 - accuracy: 0.0792 - val_loss: -5.4553e+04 - val_accuracy: 0.1154\n",
      "Epoch 148/150\n",
      " - 0s - loss: -2.8095e+04 - accuracy: 0.0792 - val_loss: -5.6077e+04 - val_accuracy: 0.1154\n",
      "Epoch 149/150\n",
      " - 0s - loss: -2.8948e+04 - accuracy: 0.0792 - val_loss: -5.7575e+04 - val_accuracy: 0.1154\n",
      "Epoch 150/150\n",
      " - 0s - loss: -2.9738e+04 - accuracy: 0.0792 - val_loss: -5.9257e+04 - val_accuracy: 0.1154\n"
     ]
    }
   ],
   "source": [
    "# Step 3 - Fit the model\n",
    "batch_size = 32\n",
    "epochs = 150\n",
    "\n",
    "history = model.fit(\n",
    "    x_train,\n",
    "    y_train,\n",
    "    validation_split=0.2,\n",
    "    batch_size= batch_size,\n",
    "    epochs= epochs,\n",
    "    verbose=2\n",
    ")"
   ]
  },
  {
   "cell_type": "code",
   "execution_count": 16,
   "metadata": {},
   "outputs": [
    {
     "name": "stdout",
     "output_type": "stream",
     "text": [
      "\r",
      "32/32 [==============================] - 0s 81us/step\n"
     ]
    },
    {
     "data": {
      "text/plain": [
       "[-56210.5234375, 0.03125]"
      ]
     },
     "execution_count": 16,
     "metadata": {},
     "output_type": "execute_result"
    }
   ],
   "source": [
    "model.evaluate(x_test, y_test)"
   ]
  },
  {
   "cell_type": "code",
   "execution_count": 17,
   "metadata": {},
   "outputs": [
    {
     "data": {
      "text/plain": [
       "<function matplotlib.pyplot.show(close=None, block=None)>"
      ]
     },
     "execution_count": 17,
     "metadata": {},
     "output_type": "execute_result"
    },
    {
     "data": {
      "image/png": "[encoded data removed]",
      "text/plain": [
       "<Figure size 720x576 with 1 Axes>"
      ]
     },
     "metadata": {
      "needs_background": "light"
     },
     "output_type": "display_data"
    }
   ],
   "source": [
    "# Loss Graph\n",
    "\n",
    "plt.figure(figsize= (10, 8))\n",
    "\n",
    "epochs_range = range(1, epochs+1)\n",
    "train_loss = history.history['loss']\n",
    "val_loss = history.history['val_loss']\n",
    "\n",
    "plt.plot(epochs_range, train_loss, label= 'Training Loss')\n",
    "plt.plot(epochs_range, val_loss, label= 'Validation Loss')\n",
    "\n",
    "plt.xlabel('Epochs')\n",
    "plt.ylabel('Loss')\n",
    "plt.legend()\n",
    "plt.show"
   ]
  },
  {
   "cell_type": "code",
   "execution_count": 18,
   "metadata": {},
   "outputs": [
    {
     "name": "stdout",
     "output_type": "stream",
     "text": [
      "x_train.shape (127, 6)\n",
      "y_train.shape (127,)\n",
      "x_test.shape (32, 6)\n",
      "y_test.shape 41     4\n",
      "43     4\n",
      "108    2\n",
      "49     4\n",
      "64     1\n",
      "156    5\n",
      "150    5\n",
      "22     0\n",
      "56     6\n",
      "142    3\n",
      "39     4\n",
      "44     4\n",
      "26     0\n",
      "133    3\n",
      "40     4\n",
      "102    2\n",
      "111    2\n",
      "151    5\n",
      "135    3\n",
      "47     4\n",
      "122    2\n",
      "127    2\n",
      "132    3\n",
      "36     4\n",
      "96     2\n",
      "33     0\n",
      "28     0\n",
      "126    2\n",
      "78     2\n",
      "30     0\n",
      "146    5\n",
      "110    2\n",
      "Name: Species, dtype: int64\n",
      "(1,)\n"
     ]
    },
    {
     "data": {
      "text/plain": [
       "array([[1.],\n",
       "       [1.],\n",
       "       [1.],\n",
       "       [1.],\n",
       "       [1.],\n",
       "       [1.],\n",
       "       [1.],\n",
       "       [1.],\n",
       "       [1.],\n",
       "       [1.],\n",
       "       [1.],\n",
       "       [1.],\n",
       "       [1.],\n",
       "       [1.],\n",
       "       [1.],\n",
       "       [1.],\n",
       "       [1.],\n",
       "       [1.],\n",
       "       [1.],\n",
       "       [1.],\n",
       "       [1.],\n",
       "       [1.],\n",
       "       [1.],\n",
       "       [1.],\n",
       "       [1.],\n",
       "       [1.],\n",
       "       [1.],\n",
       "       [1.],\n",
       "       [1.],\n",
       "       [1.],\n",
       "       [1.],\n",
       "       [1.]], dtype=float32)"
      ]
     },
     "execution_count": 18,
     "metadata": {},
     "output_type": "execute_result"
    }
   ],
   "source": [
    "print('x_train.shape', x_train.shape)\n",
    "print('y_train.shape', y_train.shape)\n",
    "\n",
    "print('x_test.shape', x_test.shape)\n",
    "print('y_test.shape', y_test)\n",
    "\n",
    "\n",
    "# Make a prediction\n",
    "test_data = [[242.0,23.2,25.4,30.0,11.5200,4.0200]]\n",
    "test = pd.Series(test_data)\n",
    "test\n",
    "print(test.shape)\n",
    "model.predict(x_test)"
   ]
  },
  {
   "cell_type": "markdown",
   "metadata": {},
   "source": [
    "## Logistic Regression"
   ]
  },
  {
   "cell_type": "code",
   "execution_count": 52,
   "metadata": {},
   "outputs": [
    {
     "data": {
      "text/plain": [
       "LogisticRegression()"
      ]
     },
     "execution_count": 52,
     "metadata": {},
     "output_type": "execute_result"
    }
   ],
   "source": [
    "# Creating the Logistic Regression model\n",
    "logReg = LogisticRegression()\n",
    "\n",
    "logReg.fit(x_train, y_train)"
   ]
  },
  {
   "cell_type": "code",
   "execution_count": 53,
   "metadata": {},
   "outputs": [
    {
     "data": {
      "text/plain": [
       "0.75"
      ]
     },
     "execution_count": 53,
     "metadata": {},
     "output_type": "execute_result"
    }
   ],
   "source": [
    "# Check the score of the model\n",
    "logReg.score(x_test,y_test)"
   ]
  },
  {
   "cell_type": "code",
   "execution_count": 68,
   "metadata": {},
   "outputs": [
    {
     "name": "stdout",
     "output_type": "stream",
     "text": [
      "Accuracy of the model is  75.0 %\n"
     ]
    }
   ],
   "source": [
    "# Evaluating the Logistic Regression Model\n",
    "from sklearn.metrics import accuracy_score\n",
    "\n",
    "logi_pred = logReg.predict(x_test)\n",
    "acc_logisreg = accuracy_score(y_test, logi_pred)\n",
    "print('Accuracy of the model is ', acc_logisreg*100, \"%\")"
   ]
  },
  {
   "cell_type": "markdown",
   "metadata": {},
   "source": [
    "# Save the model"
   ]
  },
  {
   "cell_type": "code",
   "execution_count": 58,
   "metadata": {},
   "outputs": [],
   "source": [
    "import pickle\n",
    "\n",
    "# save the model\n",
    "pickle.dump(logReg, open(\"model.pkl\", \"wb\"))\n",
    "pickle.dump(scaler, open(\"scaler.pkl\", \"wb\"))\n"
   ]
  },
  {
   "cell_type": "code",
   "execution_count": 59,
   "metadata": {},
   "outputs": [],
   "source": [
    "# load the model\n",
    "model = pickle.load(open(\"model.pkl\", \"rb\"))\n",
    "scaler = pickle.load(open(\"scaler.pkl\", \"rb\"))\n"
   ]
  },
  {
   "cell_type": "code",
   "execution_count": 60,
   "metadata": {},
   "outputs": [],
   "source": [
    "# use model to predict\n",
    "y_pred = model.predict(scaler.fit_transform(x_test))"
   ]
  },
  {
   "cell_type": "code",
   "execution_count": 61,
   "metadata": {},
   "outputs": [
    {
     "data": {
      "text/plain": [
       "array(['Perch', 'Perch', 'Smelt', 'Perch', 'Parkki', 'Smelt', 'Perch',\n",
       "       'Perch', 'Pike', 'Pike', 'Perch', 'Parkki', 'Bream', 'Bream',\n",
       "       'Perch', 'Perch', 'Perch', 'Perch', 'Bream', 'Perch', 'Bream',\n",
       "       'Bream', 'Perch', 'Perch', 'Perch', 'Perch', 'Smelt', 'Perch',\n",
       "       'Parkki', 'Perch', 'Perch', 'Parkki'], dtype=object)"
      ]
     },
     "execution_count": 61,
     "metadata": {},
     "output_type": "execute_result"
    }
   ],
   "source": [
    "y_pred"
   ]
  },
  {
   "cell_type": "code",
   "execution_count": 63,
   "metadata": {},
   "outputs": [
    {
     "data": {
      "text/plain": [
       "array(['Perch'], dtype=object)"
      ]
     },
     "execution_count": 63,
     "metadata": {},
     "output_type": "execute_result"
    }
   ],
   "source": [
    "test_data = [[242.0,23.2,25.4,30.0,11.5200,4.0200]]\n",
    "model.predict(scaler.fit_transform(test_data))"
   ]
  },
  {
   "cell_type": "code",
   "execution_count": null,
   "metadata": {},
   "outputs": [],
   "source": []
  }
 ],
 "metadata": {
  "kernelspec": {
   "display_name": "Python 3",
   "language": "python",
   "name": "python3"
  },
  "language_info": {
   "codemirror_mode": {
    "name": "ipython",
    "version": 3
   },
   "file_extension": ".py",
   "mimetype": "text/x-python",
   "name": "python",
   "nbconvert_exporter": "python",
   "pygments_lexer": "ipython3",
   "version": "3.6.13"
  }
 },
 "nbformat": 4,
 "nbformat_minor": 4
}
